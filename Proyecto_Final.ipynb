{
  "nbformat": 4,
  "nbformat_minor": 0,
  "metadata": {
    "colab": {
      "provenance": [],
      "include_colab_link": true
    },
    "kernelspec": {
      "name": "python3",
      "display_name": "Python 3"
    },
    "language_info": {
      "name": "python"
    }
  },
  "cells": [
    {
      "cell_type": "markdown",
      "metadata": {
        "id": "view-in-github",
        "colab_type": "text"
      },
      "source": [
        "<a href=\"https://colab.research.google.com/github/Alex-So-Ma/Fisica_Computacional_2023-1/blob/main/Proyecto_Final.ipynb\" target=\"_parent\"><img src=\"https://colab.research.google.com/assets/colab-badge.svg\" alt=\"Open In Colab\"/></a>"
      ]
    },
    {
      "cell_type": "code",
      "source": [
        "import numpy as np\n",
        "\n",
        "def trapezcomp(f, a, b, n):\n",
        "    \"\"\"\n",
        "    integración con regla del trapecio\n",
        "\n",
        "    Entradas:\n",
        "    f:  función a integrar\n",
        "    a:  límite inferior\n",
        "    b:  límite superior\n",
        "    n:  división del intervalo\n",
        "    \"\"\"\n",
        "\n",
        "    # Inicio\n",
        "    h = (b - a) / n\n",
        "    x = a\n",
        "\n",
        "    # Regla de composición\n",
        "    In = f(a)\n",
        "    for k in range(1, n):\n",
        "        x  = x + h\n",
        "        In += 2*f(x)\n",
        "\n",
        "    return (In + f(b))*h*0.5\n",
        "\n",
        "def romberg(f, a, b, p):\n",
        "    \"\"\"\n",
        "    integración de Romberg\n",
        "\n",
        "    Entradas:\n",
        "    f:  función a integrar\n",
        "    a:  cota inferior\n",
        "    b:  cota superior\n",
        "    p:  filas en la tabla de Romberg\n",
        "    \"\"\"\n",
        "\n",
        "    I = np.zeros((p, p))\n",
        "    for k in range(0, p):\n",
        "        # Primeras aproximaciones dada por el método del trapecio\n",
        "        I[k, 0] = trapezcomp(f, a, b, 2**k)\n",
        "\n",
        "        # Formula recursiva de Romberg\n",
        "        for j in range(0, k):\n",
        "            I[k, j+1] = (4**(j+1) * I[k, j] - I[k-1, j]) / (4**(j+1) - 1)\n",
        "\n",
        "        print(I[k,0:k+1])   # Muestra los resultados intermedios\n",
        "    return I\n",
        "\n",
        "#Ejemplo\n",
        "\n",
        "p = 5\n",
        "print('Arreglo teriangular de la integración de Romberg')\n",
        "I = romberg(np.sin, 0, np.pi/2, p)\n",
        "solution = I[p-1, p-1]\n",
        "print('---------------------------------------------------------------')\n",
        "print('Solución por integración de romberg:',solution)\n",
        "\n",
        "Ie=1\n",
        "print('---------------------------------------------------------------')\n",
        "print('Solución analítica: -cos(pi/2)+cos(0)=', Ie)\n",
        "print('---------------------------------------------------------------')\n",
        "print('Arreglo teriangular de los errores porcentuales de la integración de Romberg')\n",
        "E = np.zeros((p, p))\n",
        "for k in range(0, p):\n",
        "  E[k, 0] = np.absolute((I[k,0]-Ie)/Ie)*100\n",
        "\n",
        "  for j in range(0, k):\n",
        "    E[k, j+1] = np.absolute((I[k, j+1]-Ie)/Ie)*100\n",
        "\n",
        "  print(E[k,0:k+1])   # Muestra los errores"
      ],
      "metadata": {
        "id": "8-MQuSnNt-ql",
        "colab": {
          "base_uri": "https://localhost:8080/"
        },
        "outputId": "74504ae5-b9dd-4aa2-f56c-dfdd4dec5cab"
      },
      "execution_count": null,
      "outputs": [
        {
          "output_type": "stream",
          "name": "stdout",
          "text": [
            "Arreglo teriangular de la integración de Romberg\n",
            "[0.78539816]\n",
            "[0.94805945 1.00227988]\n",
            "[0.9871158  1.00013458 0.99999157]\n",
            "[0.99678517 1.0000083  0.99999988 1.00000001]\n",
            "[0.99919668 1.00000052 1.         1.         1.        ]\n",
            "---------------------------------------------------------------\n",
            "Solución por integración de romberg: 0.9999999999980169\n",
            "---------------------------------------------------------------\n",
            "Solución analítica: -cos(pi/2)+cos(0)= 1\n",
            "---------------------------------------------------------------\n",
            "Arreglo teriangular de los errores porcentuales de la integración de Romberg\n",
            "[21.46018366]\n",
            "[5.1940551  0.22798775]\n",
            "[1.28841990e+00 1.34584974e-02 8.43452701e-04]\n",
            "[3.21482811e-01 8.29552397e-04 1.23772714e-05 8.14402035e-07]\n",
            "[8.03319515e-02 5.16684706e-05 1.90457772e-07 2.98372438e-09\n",
            " 1.98308037e-10]\n"
          ]
        }
      ]
    },
    {
      "cell_type": "code",
      "source": [
        "from scipy import integrate\n",
        "\n",
        "help(integrate.romberg)"
      ],
      "metadata": {
        "id": "D1ns1gNRjZkk",
        "colab": {
          "base_uri": "https://localhost:8080/"
        },
        "outputId": "989a019f-11b4-4581-9602-7ab9ca9b238f"
      },
      "execution_count": null,
      "outputs": [
        {
          "output_type": "stream",
          "name": "stdout",
          "text": [
            "Help on function romberg in module scipy.integrate._quadrature:\n",
            "\n",
            "romberg(function, a, b, args=(), tol=1.48e-08, rtol=1.48e-08, show=False, divmax=10, vec_func=False)\n",
            "    Romberg integration of a callable function or method.\n",
            "    \n",
            "    Returns the integral of `function` (a function of one variable)\n",
            "    over the interval (`a`, `b`).\n",
            "    \n",
            "    If `show` is 1, the triangular array of the intermediate results\n",
            "    will be printed. If `vec_func` is True (default is False), then\n",
            "    `function` is assumed to support vector arguments.\n",
            "    \n",
            "    Parameters\n",
            "    ----------\n",
            "    function : callable\n",
            "        Function to be integrated.\n",
            "    a : float\n",
            "        Lower limit of integration.\n",
            "    b : float\n",
            "        Upper limit of integration.\n",
            "    \n",
            "    Returns\n",
            "    -------\n",
            "    results  : float\n",
            "        Result of the integration.\n",
            "    \n",
            "    Other Parameters\n",
            "    ----------------\n",
            "    args : tuple, optional\n",
            "        Extra arguments to pass to function. Each element of `args` will\n",
            "        be passed as a single argument to `func`. Default is to pass no\n",
            "        extra arguments.\n",
            "    tol, rtol : float, optional\n",
            "        The desired absolute and relative tolerances. Defaults are 1.48e-8.\n",
            "    show : bool, optional\n",
            "        Whether to print the results. Default is False.\n",
            "    divmax : int, optional\n",
            "        Maximum order of extrapolation. Default is 10.\n",
            "    vec_func : bool, optional\n",
            "        Whether `func` handles arrays as arguments (i.e., whether it is a\n",
            "        \"vector\" function). Default is False.\n",
            "    \n",
            "    See Also\n",
            "    --------\n",
            "    fixed_quad : Fixed-order Gaussian quadrature.\n",
            "    quad : Adaptive quadrature using QUADPACK.\n",
            "    dblquad : Double integrals.\n",
            "    tplquad : Triple integrals.\n",
            "    romb : Integrators for sampled data.\n",
            "    simpson : Integrators for sampled data.\n",
            "    cumulative_trapezoid : Cumulative integration for sampled data.\n",
            "    ode : ODE integrator.\n",
            "    odeint : ODE integrator.\n",
            "    \n",
            "    References\n",
            "    ----------\n",
            "    .. [1] 'Romberg's method' https://en.wikipedia.org/wiki/Romberg%27s_method\n",
            "    \n",
            "    Examples\n",
            "    --------\n",
            "    Integrate a gaussian from 0 to 1 and compare to the error function.\n",
            "    \n",
            "    >>> from scipy import integrate\n",
            "    >>> from scipy.special import erf\n",
            "    >>> gaussian = lambda x: 1/np.sqrt(np.pi) * np.exp(-x**2)\n",
            "    >>> result = integrate.romberg(gaussian, 0, 1, show=True)\n",
            "    Romberg integration of <function vfunc at ...> from [0, 1]\n",
            "    \n",
            "    ::\n",
            "    \n",
            "       Steps  StepSize  Results\n",
            "           1  1.000000  0.385872\n",
            "           2  0.500000  0.412631  0.421551\n",
            "           4  0.250000  0.419184  0.421368  0.421356\n",
            "           8  0.125000  0.420810  0.421352  0.421350  0.421350\n",
            "          16  0.062500  0.421215  0.421350  0.421350  0.421350  0.421350\n",
            "          32  0.031250  0.421317  0.421350  0.421350  0.421350  0.421350  0.421350\n",
            "    \n",
            "    The final result is 0.421350396475 after 33 function evaluations.\n",
            "    \n",
            "    >>> print(\"%g %g\" % (2*result, erf(1)))\n",
            "    0.842701 0.842701\n",
            "\n"
          ]
        }
      ]
    },
    {
      "cell_type": "code",
      "source": [
        "from scipy import integrate\n",
        "import numpy as np\n",
        "\n",
        "I = integrate.romberg(np.sin, 0, np.pi/2,show=True)\n",
        "print(I)\n",
        "print(-np.cos(np.pi/2)+np.cos(0))"
      ],
      "metadata": {
        "id": "UPtCXBHdhTwj",
        "colab": {
          "base_uri": "https://localhost:8080/"
        },
        "outputId": "6301ff05-9483-4d93-9ec0-506773aca8de"
      },
      "execution_count": null,
      "outputs": [
        {
          "output_type": "stream",
          "name": "stdout",
          "text": [
            "Romberg integration of <function vectorize1.<locals>.vfunc at 0x7f7600420af0> from [0, 1.5707963267948966]\n",
            "\n",
            " Steps  StepSize   Results\n",
            "     1  1.570796  0.785398 \n",
            "     2  0.785398  0.948059  1.002280 \n",
            "     4  0.392699  0.987116  1.000135  0.999992 \n",
            "     8  0.196350  0.996785  1.000008  1.000000  1.000000 \n",
            "    16  0.098175  0.999197  1.000001  1.000000  1.000000  1.000000 \n",
            "\n",
            "The final result is 0.9999999999980171 after 17 function evaluations.\n",
            "0.9999999999980171\n",
            "0.9999999999999999\n"
          ]
        }
      ]
    }
  ]
}