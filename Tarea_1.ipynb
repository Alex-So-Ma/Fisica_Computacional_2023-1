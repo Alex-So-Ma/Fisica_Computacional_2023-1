{
  "nbformat": 4,
  "nbformat_minor": 0,
  "metadata": {
    "colab": {
      "provenance": [],
      "authorship_tag": "ABX9TyPDpxveSIG5BHuA5yifbhRS",
      "include_colab_link": true
    },
    "kernelspec": {
      "name": "python3",
      "display_name": "Python 3"
    },
    "language_info": {
      "name": "python"
    }
  },
  "cells": [
    {
      "cell_type": "markdown",
      "metadata": {
        "id": "view-in-github",
        "colab_type": "text"
      },
      "source": [
        "<a href=\"https://colab.research.google.com/github/Alex-So-Ma/Fisica_Computacional_2023-1/blob/main/Tarea_1.ipynb\" target=\"_parent\"><img src=\"https://colab.research.google.com/assets/colab-badge.svg\" alt=\"Open In Colab\"/></a>"
      ]
    },
    {
      "cell_type": "markdown",
      "source": [
        "#Tarea 1\n",
        "####Física Computacional\n",
        "####Alejandro Soto Malpica\n"
      ],
      "metadata": {
        "id": "rCn0zXEI8BK7"
      }
    },
    {
      "cell_type": "markdown",
      "source": [
        "##1. Función Totient de Euler\n",
        "Cuenta el número de enteros positivos menores o iguales a $n$ que son primos relativos a $n$. Este programa calcula los primos relativos para $1\\leq n\\leq100$."
      ],
      "metadata": {
        "id": "-BVnJ-KT9xPv"
      }
    },
    {
      "cell_type": "code",
      "execution_count": null,
      "metadata": {
        "id": "48DaIXRmnzdY"
      },
      "outputs": [],
      "source": [
        "import builtins\n",
        "i=100\n",
        "while i>0: ##Revisa los números del 1 al 100.\n",
        "  pr=0\n",
        "  for j in range(1,i): ##Revisa si los números j de 1 a i son pr de i.\n",
        "    a=i\n",
        "    while j: ##Revisa si el numero j es pr de i (algirtmo MCD).\n",
        "      a,j=j,a%j\n",
        "    if a==1:\n",
        "      pr += 1\n",
        "  print(i,'tiene',pr,'primos relativos.')\n",
        "  i=i-1"
      ]
    },
    {
      "cell_type": "markdown",
      "source": [
        "##2. Integral definida de $\\sin^{n}\\theta\\cos^{m}\\theta$\n",
        "\n",
        "$$\\displaystyle\\int_0^{2\\pi}\\sin^{n}\\theta\\cos^{m}\\theta = \\begin{cases}\n",
        "  \\frac{(m-1)!!(n-1)!!}{(m+n)!!}\\frac{\\pi}{2} & m,n\\text{ ambos pares}\\\\\n",
        "  \\frac{(m-1)!!(n-1)!!}{(m+n)!!} & \\text{cualquier otro caso}\n",
        "\\end{cases}$$\n",
        "\n",
        "Se define una función que calcula la integral definda de $0$ a $2\\pi$ de $\\sin^{n}\\theta\\cos^{m}\\theta$, donde $n$ y $m$ son números enteros no negativos que se le dan a la función."
      ],
      "metadata": {
        "id": "VOZf5YNH-Pu2"
      }
    },
    {
      "cell_type": "markdown",
      "source": [
        "###2.1 Función doble factorial\n",
        "Primero se define la función doble factorial de un entero no negativo:\n",
        "\\begin{cases}\n",
        "  n(n-2)\\cdot\\cdot\\cdot3\\cdot1 & n\\ \\text{impar}\\\\\n",
        "  n(n-2)\\cdot\\cdot\\cdot4\\cdot3 & n\\ \\text{par}\n",
        "\\end{cases}"
      ],
      "metadata": {
        "id": "lRlFa5wsComC"
      }
    },
    {
      "cell_type": "code",
      "source": [
        "def dfactorial(n):\n",
        "  if n==0: ##El doble factorial de 0 es 1.\n",
        "    return 1\n",
        "  elif n%2==0: ##Identifica si n es par.\n",
        "    k=n/2\n",
        "    df=1\n",
        "    m=1\n",
        "    while m<=k: ##Calcula el doble factorial de n par.\n",
        "      df=df*(2*m)\n",
        "      m=m+1\n",
        "    return df\n",
        "  else: ##Si n no es par, es impar.\n",
        "    k=(n+1)/2\n",
        "    df=1\n",
        "    m=1\n",
        "    while m<=k: ##Calcula el doble factorial de n impar.\n",
        "      df=df*(2*m-1)\n",
        "      m=m+1\n",
        "    return df"
      ],
      "metadata": {
        "id": "YaLc52Lt9N03"
      },
      "execution_count": null,
      "outputs": []
    },
    {
      "cell_type": "markdown",
      "source": [
        "###2.2 Función $sinm\\_cosn(n,m)$\n",
        "Se define la función que calcula la integral."
      ],
      "metadata": {
        "id": "TCixfkntFB3B"
      }
    },
    {
      "cell_type": "code",
      "source": [
        "def sinm_cosn(n,m):\n",
        "  import math\n",
        "  if [1%2,m%2]==[0,0]: ##Identifica si n y m son pares.\n",
        "    sncm=(dfactorial(m-1)*dfactorial(n-1)*math.pi)/(dfactorial(m+n)*2) ##Calcula la integral.\n",
        "    return sncm\n",
        "  else: ##Caso en el que n o m no es par.\n",
        "    sncm=(dfactorial(m-1)*dfactorial(n-1))/(dfactorial(m+n)) ##Calcula la integral.\n",
        "    return sncm"
      ],
      "metadata": {
        "id": "FnkVYKdW2O-u"
      },
      "execution_count": null,
      "outputs": []
    },
    {
      "cell_type": "code",
      "source": [
        "n=5\n",
        "m=2\n",
        "sinm_cosn(n,m)\n",
        "print(sinm_cosn(n,m))"
      ],
      "metadata": {
        "colab": {
          "base_uri": "https://localhost:8080/"
        },
        "id": "hxXhHv5mIn9O",
        "outputId": "a6a4d0d4-fd71-433f-9169-450b01209741"
      },
      "execution_count": null,
      "outputs": [
        {
          "output_type": "stream",
          "name": "stdout",
          "text": [
            "0.0761904761904762\n"
          ]
        }
      ]
    },
    {
      "cell_type": "markdown",
      "source": [
        "##3. Función identificadora de palíndromos\n",
        "Se define una función que identifica si una palabra es un palíndromo."
      ],
      "metadata": {
        "id": "n4kEYUBvCWnJ"
      }
    },
    {
      "cell_type": "code",
      "source": [
        "def palap(p):\n",
        "  listpa=list(p.lower()) ##Convierte la palabra a minúculas y hace una lista (listpa) con ella.\n",
        "  i=-1\n",
        "  while i>=-len(listpa): #Revisa si hay espacios y los elimina.\n",
        "   if listpa[i]==' ':\n",
        "     listpa.remove(listpa[i])\n",
        "     i=i+1\n",
        "   i=i-1\n",
        "  listap=listpa[::-1] ##Define otra lista (listap) que es listpa, pero invertida.\n",
        "  if listpa==listap: ##Identifica si las listas son iguales.\n",
        "    return p, 'es palíndromo.'\n",
        "  else:\n",
        "    return p, 'no es palíndromo.'"
      ],
      "metadata": {
        "id": "ahiMRUGrgNsc"
      },
      "execution_count": null,
      "outputs": []
    },
    {
      "cell_type": "code",
      "source": [
        "pp='A luna ese anula'\n",
        "palap(pp)\n",
        "print(palap(pp))"
      ],
      "metadata": {
        "colab": {
          "base_uri": "https://localhost:8080/"
        },
        "id": "924cdbbAu5N2",
        "outputId": "bbe4fa6e-c89a-44d9-b3e4-2061d4968c5f"
      },
      "execution_count": null,
      "outputs": [
        {
          "output_type": "stream",
          "name": "stdout",
          "text": [
            "('A luna ese anula', 'es palíndromo.')\n"
          ]
        }
      ]
    }
  ]
}