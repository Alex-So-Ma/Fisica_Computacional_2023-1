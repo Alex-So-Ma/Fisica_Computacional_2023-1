{
  "nbformat": 4,
  "nbformat_minor": 0,
  "metadata": {
    "colab": {
      "provenance": [],
      "mount_file_id": "1pa-W0E62YoIcSgf2ztbrANAQNpOnLeVi",
      "authorship_tag": "ABX9TyMqT8uaOjZU0DCEE71zrBhC",
      "include_colab_link": true
    },
    "kernelspec": {
      "name": "python3",
      "display_name": "Python 3"
    },
    "language_info": {
      "name": "python"
    }
  },
  "cells": [
    {
      "cell_type": "markdown",
      "metadata": {
        "id": "view-in-github",
        "colab_type": "text"
      },
      "source": [
        "<a href=\"https://colab.research.google.com/github/Alex-So-Ma/Fisica_Computacional_2023-1/blob/main/Tarea_3.ipynb\" target=\"_parent\"><img src=\"https://colab.research.google.com/assets/colab-badge.svg\" alt=\"Open In Colab\"/></a>"
      ]
    },
    {
      "cell_type": "markdown",
      "source": [
        "#Tarea 3\n",
        "####Física Computacional\n",
        "####Alejandro Soto Malpica"
      ],
      "metadata": {
        "id": "pGoX5djgiGcc"
      }
    },
    {
      "cell_type": "markdown",
      "source": [
        "##1. Polinomio de Taylor de la exponencial\n",
        "\n",
        "Función que da los valores del polinomio de Taylor de la exponencial."
      ],
      "metadata": {
        "id": "xDdg9jnWiJYQ"
      }
    },
    {
      "cell_type": "code",
      "execution_count": null,
      "metadata": {
        "colab": {
          "base_uri": "https://localhost:8080/"
        },
        "id": "0LMjrvU3AeRc",
        "outputId": "e500b997-791a-4270-ea03-27cf82838a02"
      },
      "outputs": [
        {
          "output_type": "stream",
          "name": "stdout",
          "text": [
            "1.727542676201181 1.8180330193126684e-11 4.828737576193741e-09\n"
          ]
        }
      ],
      "source": [
        "import numpy as np\n",
        "from math import exp\n",
        "\n",
        "def exp_p(x):\n",
        "  #Los primeros términos del polinomio\n",
        "  term = 1\n",
        "  sum = 1\n",
        "  eps=1e-8\n",
        "  n=2\n",
        "\n",
        "  while abs(term/sum)>eps:\n",
        "    term=term*x/(n-1)\n",
        "    sum=sum+term\n",
        "    n=n+1\n",
        "  return sum\n",
        "\n",
        "#Error respecto a la exp de math\n",
        "e1=abs(exp_p(-20)-exp(-20))/exp(-20)\n",
        "e2=abs(exp_p(0.1)-exp(0.1))/exp(0.1)\n",
        "e3=abs(exp_p(20)-exp(20))/exp(20)\n",
        "print(e1,e2,e3)"
      ]
    },
    {
      "cell_type": "markdown",
      "source": [
        "Para 0.1 y 20 el valor es aceptable, para -20 hay un margen de error considerable."
      ],
      "metadata": {
        "id": "AJX5F0E_inx-"
      }
    },
    {
      "cell_type": "markdown",
      "source": [],
      "metadata": {
        "id": "1zbEtNWsjG1x"
      }
    },
    {
      "cell_type": "markdown",
      "source": [
        "##2. Datos de un río en Inglaterra\n",
        "\n",
        "Gráfica del nivel de un río ingles."
      ],
      "metadata": {
        "id": "zggtZsaEjJNC"
      }
    },
    {
      "cell_type": "code",
      "source": [
        "import pandas as pd\n",
        "import matplotlib.pyplot as plt\n",
        "\n",
        "#Funciones que ayudan a escoger calumnas y celdas en el DataFrame\n",
        "def month(i,j):\n",
        "  y=str(2013+i)\n",
        "  m=str(j)\n",
        "  f=y+'-'+m\n",
        "  return f\n",
        "\n",
        "def month1(i,j,k):\n",
        "  y=str(2013+i)\n",
        "  m=str(j)\n",
        "  d=str(k)\n",
        "  f=y+'-'+m+'-'+d\n",
        "  return f\n",
        "\n",
        "#Primer data frame\n",
        "df1 = pd.read_csv('T3_river-level.csv')\n",
        "df1.rename ({'date': 'Date'}, axis='columns', inplace=True)\n",
        "\n",
        "#Hacemos que la fechas sean índices para poder usarla al manipular los datos\n",
        "df1['Date'] = pd.to_datetime(df1['Date'], dayfirst=True)\n",
        "df1 = df1.set_index(['Date'])\n",
        "\n",
        "#Creamos otro DataFrame que vamos a modificar\n",
        "df2 = pd.read_csv('T3_river-level.csv')\n",
        "df2['Daily average'] = df2['avg_level']\n",
        "df2['Date']=df2['date']\n",
        "df2['date'] = pd.to_datetime(df2['date'], dayfirst=True)\n",
        "df2 = df2.set_index(['date'])\n",
        "\n",
        "#Calculamos y remplazamos los valores mínimos, máximos y promedios\n",
        "for i in range(1,4):\n",
        "  for j in range(1,13):\n",
        "    df2['min_level']['{var}'.format(var=month(i,j))]=df1.loc['{var}'.format(var=month(i,j)),'min_level'].min()\n",
        "    df2['avg_level']['{var}'.format(var=month(i,j))]=(df1.loc['{var}'.format(var=month(i,j)),'avg_level'].sum())/int(len(df1.loc['{var}'.format(var=month(i,j)),'avg_level']))\n",
        "    df2['max_level']['{var}'.format(var=month(i,j))]=df1.loc['{var}'.format(var=month(i,j)),'max_level'].max()\n",
        "\n",
        "#Cambiamos los nombres de las columnas\n",
        "df2.rename ({'min_level': 'Monthly minimum'}, axis='columns', inplace=True)\n",
        "df2.rename ({'avg_level': 'Monthly average'}, axis='columns', inplace=True)\n",
        "df2.rename ({'max_level': 'Monthly maximum'}, axis='columns', inplace=True)\n",
        "\n",
        "#Creamos un tercer DataFrame para almacenar los datos mensuales un sola vez\n",
        "df3=df2.dropna()\n",
        "\n",
        "for i in range(1,4):\n",
        "  for j in range(1,13):\n",
        "    for k in range(int(len(df2[month(i,j)]))+1):\n",
        "      if not k==10:\n",
        "        df3['Monthly minimum']['{var}'.format(var=month1(i,j,k))]=None\n",
        "        df3['Monthly average']['{var}'.format(var=month1(i,j,k))]=None\n",
        "        df3['Monthly maximum']['{var}'.format(var=month1(i,j,k))]=None\n",
        "\n",
        "df3=df3.dropna()\n",
        "\n",
        "fig1 = plt.figure()\n",
        "ax1 = fig1.add_subplot(111)\n",
        "\n",
        "ax1.plot(df3['Monthly minimum'])\n",
        "ax1.plot(df3['Monthly average'])\n",
        "ax1.plot(df3['Monthly maximum'])\n",
        "ax1.plot(df2['Daily average'])\n"
      ],
      "metadata": {
        "colab": {
          "base_uri": "https://localhost:8080/",
          "height": 825
        },
        "id": "PYu1U5HuhPLL",
        "outputId": "8d337fa8-3fd8-4096-c795-e433cb22ae2d"
      },
      "execution_count": null,
      "outputs": [
        {
          "output_type": "stream",
          "name": "stderr",
          "text": [
            "/usr/local/lib/python3.7/dist-packages/ipykernel_launcher.py:36: SettingWithCopyWarning: \n",
            "A value is trying to be set on a copy of a slice from a DataFrame\n",
            "\n",
            "See the caveats in the documentation: https://pandas.pydata.org/pandas-docs/stable/user_guide/indexing.html#returning-a-view-versus-a-copy\n",
            "/usr/local/lib/python3.7/dist-packages/pandas/core/indexing.py:1732: SettingWithCopyWarning: \n",
            "A value is trying to be set on a copy of a slice from a DataFrame\n",
            "\n",
            "See the caveats in the documentation: https://pandas.pydata.org/pandas-docs/stable/user_guide/indexing.html#returning-a-view-versus-a-copy\n",
            "  self._setitem_single_block(indexer, value, name)\n",
            "/usr/local/lib/python3.7/dist-packages/ipykernel_launcher.py:37: SettingWithCopyWarning: \n",
            "A value is trying to be set on a copy of a slice from a DataFrame\n",
            "\n",
            "See the caveats in the documentation: https://pandas.pydata.org/pandas-docs/stable/user_guide/indexing.html#returning-a-view-versus-a-copy\n",
            "/usr/local/lib/python3.7/dist-packages/ipykernel_launcher.py:38: SettingWithCopyWarning: \n",
            "A value is trying to be set on a copy of a slice from a DataFrame\n",
            "\n",
            "See the caveats in the documentation: https://pandas.pydata.org/pandas-docs/stable/user_guide/indexing.html#returning-a-view-versus-a-copy\n",
            "/usr/local/lib/python3.7/dist-packages/ipykernel_launcher.py:50: FutureWarning: Indexing a DataFrame with a datetimelike index using a single string to slice the rows, like `frame[string]`, is deprecated and will be removed in a future version. Use `frame.loc[string]` instead.\n",
            "/usr/local/lib/python3.7/dist-packages/ipykernel_launcher.py:52: SettingWithCopyWarning: \n",
            "A value is trying to be set on a copy of a slice from a DataFrame\n",
            "\n",
            "See the caveats in the documentation: https://pandas.pydata.org/pandas-docs/stable/user_guide/indexing.html#returning-a-view-versus-a-copy\n",
            "/usr/local/lib/python3.7/dist-packages/ipykernel_launcher.py:53: SettingWithCopyWarning: \n",
            "A value is trying to be set on a copy of a slice from a DataFrame\n",
            "\n",
            "See the caveats in the documentation: https://pandas.pydata.org/pandas-docs/stable/user_guide/indexing.html#returning-a-view-versus-a-copy\n",
            "/usr/local/lib/python3.7/dist-packages/ipykernel_launcher.py:54: SettingWithCopyWarning: \n",
            "A value is trying to be set on a copy of a slice from a DataFrame\n",
            "\n",
            "See the caveats in the documentation: https://pandas.pydata.org/pandas-docs/stable/user_guide/indexing.html#returning-a-view-versus-a-copy\n"
          ]
        },
        {
          "output_type": "execute_result",
          "data": {
            "text/plain": [
              "[<matplotlib.lines.Line2D at 0x7f502547a7d0>]"
            ]
          },
          "metadata": {},
          "execution_count": 1
        },
        {
          "output_type": "display_data",
          "data": {
            "text/plain": [
              "<Figure size 432x288 with 1 Axes>"
            ],
            "image/png": "[encoded data removed]"
          },
          "metadata": {
            "needs_background": "light"
          }
        }
      ]
    }
  ]
}