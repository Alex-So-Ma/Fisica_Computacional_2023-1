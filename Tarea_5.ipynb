{
  "nbformat": 4,
  "nbformat_minor": 0,
  "metadata": {
    "colab": {
      "provenance": [],
      "authorship_tag": "ABX9TyNtWwU1JD+xePz+hCuuAIrB",
      "include_colab_link": true
    },
    "kernelspec": {
      "name": "python3",
      "display_name": "Python 3"
    },
    "language_info": {
      "name": "python"
    }
  },
  "cells": [
    {
      "cell_type": "markdown",
      "metadata": {
        "id": "view-in-github",
        "colab_type": "text"
      },
      "source": [
        "<a href=\"https://colab.research.google.com/github/Alex-So-Ma/Fisica_Computacional_2023-1/blob/main/Tarea_5.ipynb\" target=\"_parent\"><img src=\"https://colab.research.google.com/assets/colab-badge.svg\" alt=\"Open In Colab\"/></a>"
      ]
    },
    {
      "cell_type": "markdown",
      "source": [
        "#Tarea 5\n",
        "####Física Computacional\n",
        "####Alejandro Soto Malpica"
      ],
      "metadata": {
        "id": "REf0o-SXs4Lv"
      }
    },
    {
      "cell_type": "markdown",
      "source": [
        "##1. Función RK4\n",
        "\n",
        "Función que usa el método Runge-Kutta de cuarto orden para resolver ecuaciones diferenciales."
      ],
      "metadata": {
        "id": "l87XRdQZs_v-"
      }
    },
    {
      "cell_type": "code",
      "execution_count": null,
      "metadata": {
        "id": "AJZXwSIjXsyY"
      },
      "outputs": [],
      "source": [
        "def RK4(f1,x0,y0,h,m):\n",
        "  \"\"\"\n",
        "  Función que usa el método Runge-Kutta de cuarto orden para resolver la ecuación\n",
        "  y'=f1(x,y) con condiciones iniciales (x0,y0) arrojando m valores espaciados por h\n",
        "  \"\"\"\n",
        "  import numpy as np\n",
        "\n",
        "  #Definimos un array donde se guardaran los valores de y(x)\n",
        "  tamaño=m+1\n",
        "  aprox=np.zeros(shape=(tamaño,2),dtype=float)\n",
        "  aprox[0]=[x0,y0]\n",
        "  xi=x0\n",
        "  yi=y0\n",
        "\n",
        "  #Se calculan los valores de yi a través del método Runge-Kutta de cuerto orden\n",
        "  for i in range(1,tamaño,1):\n",
        "    k1=f1( xi     , yi      )\n",
        "    k2=f1( xi+h/2 , yi+h*k1/2 )\n",
        "    k3=f1( xi+h/2 , yi+h*k2/2 )\n",
        "    k4=f1( xi+h   , yi+h*k3   )\n",
        "    yi=yi+(k1+2*k2+2*k3+k4)*(h/6)\n",
        "    xi=xi+h\n",
        "    aprox[i]=[xi,yi]\n",
        "\n",
        "  return aprox"
      ]
    },
    {
      "cell_type": "markdown",
      "source": [
        "##2. Gráficas\n",
        "\n",
        "Gráficas de las soluciones aproxiamda (RK4) y analítica de la ecuación:\n",
        "\n",
        "$$y'-y-x+x^2-1=0$$"
      ],
      "metadata": {
        "id": "wCg3d0wfwV9Q"
      }
    },
    {
      "cell_type": "code",
      "source": [
        "import numpy as np\n",
        "import matplotlib.pyplot as plt\n",
        "\n",
        "#Definimos la función f1(x,y)\n",
        "f1=lambda x,y:y-x**2+x+1\n",
        "x0=0\n",
        "y0=1\n",
        "h=0.1\n",
        "muestras=5\n",
        "\n",
        "#Resolvemos con RK4 la ecuación\n",
        "aprox=RK4(f1,x0,y0,h,muestras)\n",
        "\n",
        "#Creamos los array a graficar\n",
        "xi=aprox[:,0]\n",
        "yi=aprox[:,1]\n",
        "\n",
        "#Definios una función con la solución analítica\n",
        "sol_real=lambda x:((np.e)**x)+x+x**2\n",
        "a=x0\n",
        "b=h*muestras+2*h\n",
        "muestreo=10*muestras+2\n",
        "\n",
        "#Creamos los array a graficar\n",
        "xis=np.linspace(a,b,muestreo)\n",
        "yis=sol_real(xis)\n",
        "\n",
        "#Graficamos\n",
        "plt.plot(xis,yis,label='Solución exacta')\n",
        "plt.plot(xi[0],yi[0],'o',color='b',label='[x0,y0]')\n",
        "plt.plot(xi[1:],yi[1:],'o',color='magenta',label='Runge-Kutta Aprox 4 Orden')\n",
        "plt.title('Solución de la ecuación $y´-y-x+x^2-1=0$ con Runge Kutta 4to Orden')\n",
        "plt.xlabel('x')\n",
        "plt.ylabel('y')\n",
        "plt.legend()\n",
        "plt.grid()"
      ],
      "metadata": {
        "colab": {
          "base_uri": "https://localhost:8080/",
          "height": 299
        },
        "id": "vXPQqkytXvQf",
        "outputId": "4f2d4ce5-eee6-4101-a4bb-b44e16d6a277"
      },
      "execution_count": null,
      "outputs": [
        {
          "output_type": "display_data",
          "data": {
            "text/plain": [
              "<Figure size 432x288 with 1 Axes>"
            ],
            "image/png": "[encoded data removed]"
          },
          "metadata": {
            "needs_background": "light"
          }
        }
      ]
    },
    {
      "cell_type": "markdown",
      "source": [
        "##3. Errores\n",
        "\n",
        "Comparamos los errores de la aproximación de la ecuación de la parte 2 con los errores de los polinomios de Taylor de la solución de esta misma ecuación."
      ],
      "metadata": {
        "id": "gVTlk4ECy4vt"
      }
    },
    {
      "cell_type": "code",
      "source": [
        "#Creamos un array con los valores de la solución analítica evaluada en xi\n",
        "sol_real_yi=sol_real(xi)\n",
        "\n",
        "#Calculamos los errores\n",
        "error=sol_real_yi-yi\n",
        "err_max=np.max(np.abs(error))\n",
        "\n",
        "print('Error maximo RK4: ',err_max)\n",
        "print('Errores localizados RK4')\n",
        "print(error)\n",
        "\n",
        "#Remplazaos los vaores de yi por lo valores del polinomio de Taylor evaluado en xi\n",
        "f2=lambda x:1+2*x+(3/2)*x**2\n",
        "for i in range(5):\n",
        "  yi[i]=f2(xi[i])\n",
        "\n",
        "#Calculamos los errores\n",
        "error=sol_real_yi-yi\n",
        "err_max=np.max(np.abs(error))\n",
        "\n",
        "print('Error maximo Taylor 2 términos: ',err_max)\n",
        "print('Errores localizados Taylor 2 términos')\n",
        "print(error)\n",
        "\n",
        "#Remplazaos los vaores de yi por lo valores del polinomio de Taylor evaluado en xi\n",
        "f3=lambda x:1+2*x+(3/2)*x**2+(x**3)/6\n",
        "for i in range(5):\n",
        "  yi[i]=f3(xi[i])\n",
        "\n",
        "#Calculamos los errores\n",
        "error=sol_real_yi-yi\n",
        "err_max=np.max(np.abs(error))\n",
        "\n",
        "print('Error maximo Taylor 3 términos: ',err_max)\n",
        "print('Errores localizados Taylor 3 términos')\n",
        "print(error)"
      ],
      "metadata": {
        "colab": {
          "base_uri": "https://localhost:8080/"
        },
        "id": "g6Qj6cceoenN",
        "outputId": "a443c1b9-2dad-44c1-ec6e-daf3fee24e7a"
      },
      "execution_count": null,
      "outputs": [
        {
          "output_type": "stream",
          "name": "stdout",
          "text": [
            "Error maximo RK4:  1.917156652542218e-06\n",
            "Errores localizados RK4\n",
            "[0.00000000e+00 2.93075648e-07 6.25886732e-07 1.00354959e-06\n",
            " 1.43181723e-06 1.91715665e-06]\n",
            "Error maximo Taylor 2 términos:  0.011824697641270365\n",
            "Errores localizados Taylor 2 términos\n",
            "[0.00000000e+00 1.70918076e-04 1.40275816e-03 4.85880758e-03\n",
            " 1.18246976e-02 1.91715665e-06]\n",
            "Error maximo Taylor 3 términos:  0.001158030974603541\n",
            "Errores localizados Taylor 3 términos\n",
            "[0.00000000e+00 4.25140898e-06 6.94248268e-05 3.58807576e-04\n",
            " 1.15803097e-03 1.91715665e-06]\n"
          ]
        }
      ]
    }
  ]
}