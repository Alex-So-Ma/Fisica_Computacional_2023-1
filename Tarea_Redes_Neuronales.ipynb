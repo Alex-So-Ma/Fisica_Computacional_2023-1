{
  "nbformat": 4,
  "nbformat_minor": 0,
  "metadata": {
    "colab": {
      "provenance": [],
      "authorship_tag": "ABX9TyM5zODOtof8oFOjjRiYtbyL",
      "include_colab_link": true
    },
    "kernelspec": {
      "name": "python3",
      "display_name": "Python 3"
    },
    "language_info": {
      "name": "python"
    }
  },
  "cells": [
    {
      "cell_type": "markdown",
      "metadata": {
        "id": "view-in-github",
        "colab_type": "text"
      },
      "source": [
        "<a href=\"https://colab.research.google.com/github/Alex-So-Ma/Fisica_Computacional_FC_UNAM/blob/main/Tarea_Redes_Neuronales.ipynb\" target=\"_parent\"><img src=\"https://colab.research.google.com/assets/colab-badge.svg\" alt=\"Open In Colab\"/></a>"
      ]
    },
    {
      "cell_type": "markdown",
      "source": [
        "#Vinos"
      ],
      "metadata": {
        "id": "OaqXvd_auHEl"
      }
    },
    {
      "cell_type": "code",
      "source": [
        "import pandas as pd\n",
        "import numpy as np\n",
        "from tensorflow import keras\n",
        "from tensorflow.keras import layers\n",
        "import matplotlib.pyplot as plt"
      ],
      "metadata": {
        "id": "p-F5ue7-K2Oi"
      },
      "execution_count": null,
      "outputs": []
    },
    {
      "cell_type": "markdown",
      "source": [
        "Del archivo extraemos los datos y los separamos entre las etiquetas y los vectores con la información de cada vino. Normalizamos los vectores y dividimos la información entre datos de entrenamiento y datos de prueba."
      ],
      "metadata": {
        "id": "KMeSWtcjODTE"
      }
    },
    {
      "cell_type": "code",
      "execution_count": null,
      "metadata": {
        "id": "4YyP2DzyaZMZ"
      },
      "outputs": [],
      "source": [
        "data1 = pd.read_csv('wine.data', sep=\",\")\n",
        "data2 = data1.to_numpy()\n",
        "np.random.shuffle(data2) #Pasamos los datos a un array y los reordenamos los datos al azar\n",
        "\n",
        "data2_labels=np.zeros(len(data2))\n",
        "for i in range(len(data2)):\n",
        "  data2_labels[i]=data2[i][0]-1\n",
        "data2_carac = np.delete(data2, 0, 1) #Creamos un array con la eqtiquetas y los vectores\n",
        "\n",
        "def normalizeRows(x):\n",
        "    x_norm = np.linalg.norm(x, axis = 1, keepdims = True)\n",
        "    x = x / x_norm\n",
        "    return x\n",
        "data2_carac = normalizeRows(data2_carac) #Normalizamos los datos\n",
        "\n",
        "n=142\n",
        "train_data=data2_carac[:n]\n",
        "train_labels=data2_labels[:n]\n",
        "test_data=data2_carac[n:]\n",
        "test_labels=data2_labels[n:] #Dividimos las etiquetas y vectores en datos de entrenamiento y prueba"
      ]
    },
    {
      "cell_type": "markdown",
      "source": [
        "##Primer metodo (el usado con mnist)"
      ],
      "metadata": {
        "id": "HMnhFT_fLGB3"
      }
    },
    {
      "cell_type": "markdown",
      "source": [
        "Como la clasifiación de los datos es parecida a la de la base mnist, intentmos usar el mismo método. Con menos neuronas ya que la información es menor."
      ],
      "metadata": {
        "id": "vdv3GY1VPGxT"
      }
    },
    {
      "cell_type": "code",
      "source": [
        "model = keras.Sequential([\n",
        "    layers.Dense(64, activation=\"relu\"),\n",
        "    layers.Dense(64, activation=\"relu\"), #Usamos dos capas densas con 64 neuronas por el tamaño de los vectores\n",
        "    layers.Dense(3, activation=\"softmax\") #La capa final solo tiene 3 por las tres posibles etiquetas\n",
        "])\n",
        "model.compile(optimizer=\"rmsprop\",\n",
        "              loss=\"sparse_categorical_crossentropy\",\n",
        "              metrics=[\"accuracy\"]) #Las mismas finciones que para mnist\n",
        "\n",
        "model.fit(train_data, train_labels, epochs=20, batch_size=128, validation_split=0.2) #Entrenamos la red"
      ],
      "metadata": {
        "colab": {
          "base_uri": "https://localhost:8080/"
        },
        "id": "1p7tlvV0LTNN",
        "outputId": "617793c1-fbde-4091-a38b-25ae0a29627e"
      },
      "execution_count": null,
      "outputs": [
        {
          "output_type": "stream",
          "name": "stdout",
          "text": [
            "Epoch 1/20\n",
            "1/1 [==============================] - 1s 1s/step - loss: 1.1150 - accuracy: 0.2566 - val_loss: 1.0923 - val_accuracy: 0.4138\n",
            "Epoch 2/20\n",
            "1/1 [==============================] - 0s 55ms/step - loss: 1.0933 - accuracy: 0.2566 - val_loss: 1.0991 - val_accuracy: 0.2759\n",
            "Epoch 3/20\n",
            "1/1 [==============================] - 0s 55ms/step - loss: 1.0835 - accuracy: 0.4336 - val_loss: 1.1046 - val_accuracy: 0.2759\n",
            "Epoch 4/20\n",
            "1/1 [==============================] - 0s 72ms/step - loss: 1.0766 - accuracy: 0.4336 - val_loss: 1.1102 - val_accuracy: 0.2759\n",
            "Epoch 5/20\n",
            "1/1 [==============================] - 0s 57ms/step - loss: 1.0718 - accuracy: 0.4336 - val_loss: 1.1147 - val_accuracy: 0.2759\n",
            "Epoch 6/20\n",
            "1/1 [==============================] - 0s 71ms/step - loss: 1.0685 - accuracy: 0.4336 - val_loss: 1.1182 - val_accuracy: 0.2759\n",
            "Epoch 7/20\n",
            "1/1 [==============================] - 0s 75ms/step - loss: 1.0658 - accuracy: 0.4336 - val_loss: 1.1220 - val_accuracy: 0.2759\n",
            "Epoch 8/20\n",
            "1/1 [==============================] - 0s 72ms/step - loss: 1.0632 - accuracy: 0.4336 - val_loss: 1.1257 - val_accuracy: 0.2759\n",
            "Epoch 9/20\n",
            "1/1 [==============================] - 0s 97ms/step - loss: 1.0610 - accuracy: 0.4336 - val_loss: 1.1276 - val_accuracy: 0.2759\n",
            "Epoch 10/20\n",
            "1/1 [==============================] - 0s 64ms/step - loss: 1.0589 - accuracy: 0.4336 - val_loss: 1.1298 - val_accuracy: 0.2759\n",
            "Epoch 11/20\n",
            "1/1 [==============================] - 0s 61ms/step - loss: 1.0571 - accuracy: 0.4336 - val_loss: 1.1318 - val_accuracy: 0.2759\n",
            "Epoch 12/20\n",
            "1/1 [==============================] - 0s 73ms/step - loss: 1.0554 - accuracy: 0.4336 - val_loss: 1.1333 - val_accuracy: 0.2759\n",
            "Epoch 13/20\n",
            "1/1 [==============================] - 0s 63ms/step - loss: 1.0538 - accuracy: 0.4336 - val_loss: 1.1343 - val_accuracy: 0.2759\n",
            "Epoch 14/20\n",
            "1/1 [==============================] - 0s 82ms/step - loss: 1.0524 - accuracy: 0.4336 - val_loss: 1.1347 - val_accuracy: 0.2759\n",
            "Epoch 15/20\n",
            "1/1 [==============================] - 0s 76ms/step - loss: 1.0509 - accuracy: 0.4336 - val_loss: 1.1355 - val_accuracy: 0.2759\n",
            "Epoch 16/20\n",
            "1/1 [==============================] - 0s 67ms/step - loss: 1.0495 - accuracy: 0.4336 - val_loss: 1.1360 - val_accuracy: 0.2759\n",
            "Epoch 17/20\n",
            "1/1 [==============================] - 0s 60ms/step - loss: 1.0481 - accuracy: 0.4336 - val_loss: 1.1355 - val_accuracy: 0.2759\n",
            "Epoch 18/20\n",
            "1/1 [==============================] - 0s 73ms/step - loss: 1.0467 - accuracy: 0.4336 - val_loss: 1.1360 - val_accuracy: 0.2759\n",
            "Epoch 19/20\n",
            "1/1 [==============================] - 0s 54ms/step - loss: 1.0453 - accuracy: 0.4336 - val_loss: 1.1356 - val_accuracy: 0.2759\n",
            "Epoch 20/20\n",
            "1/1 [==============================] - 0s 64ms/step - loss: 1.0438 - accuracy: 0.4336 - val_loss: 1.1353 - val_accuracy: 0.2759\n"
          ]
        },
        {
          "output_type": "execute_result",
          "data": {
            "text/plain": [
              "<keras.callbacks.History at 0x7fa6f4504b80>"
            ]
          },
          "metadata": {},
          "execution_count": 46
        }
      ]
    },
    {
      "cell_type": "markdown",
      "source": [
        "Usamos los datos de prueba, aunque ya vimos que la accuracy es muy baja."
      ],
      "metadata": {
        "id": "rOEmUjJWPYlI"
      }
    },
    {
      "cell_type": "code",
      "source": [
        "predictions = model.predict(test_data) #Usamos el modelo con los datos de prueba\n",
        "\n",
        "predictions2=np.zeros(len(predictions))\n",
        "for i in range(len(predictions)):\n",
        "  predictions2[i]=predictions[i].argmax()+1\n",
        "x=predictions2\n",
        "y=test_labels+1\n",
        "x-y #Restamos las predicciones y las etiquetas para darnos una idea de donde acerto\n",
        "    #por el accuracy obtenido, desde un principio ya sabemos que no es un buen modelo"
      ],
      "metadata": {
        "colab": {
          "base_uri": "https://localhost:8080/"
        },
        "id": "focdqNDULqEe",
        "outputId": "7eacce45-1477-4ee7-ffa5-21d607a4d618"
      },
      "execution_count": null,
      "outputs": [
        {
          "output_type": "stream",
          "name": "stdout",
          "text": [
            "2/2 [==============================] - 0s 5ms/step\n"
          ]
        },
        {
          "output_type": "execute_result",
          "data": {
            "text/plain": [
              "array([ 1.,  1.,  1.,  0.,  0., -1., -1.,  1.,  1.,  1.,  0.,  0.,  1.,\n",
              "        1.,  0.,  0.,  0.,  1., -1.,  1.,  1.,  0., -1.,  0.,  0.,  0.,\n",
              "        1.,  0.,  1., -1., -1.,  0., -1.,  1.,  1.,  0.])"
            ]
          },
          "metadata": {},
          "execution_count": 47
        }
      ]
    },
    {
      "cell_type": "markdown",
      "source": [
        "Ya que tenemos una cantidad de datos menor, necesitamos un método diferente."
      ],
      "metadata": {
        "id": "rcy1c3-APkMk"
      }
    },
    {
      "cell_type": "markdown",
      "source": [
        "##Validación cruzada"
      ],
      "metadata": {
        "id": "b7Hd60p03h7D"
      }
    },
    {
      "cell_type": "markdown",
      "source": [
        "Usamos el método de validación cruzada. Primero definimos el modelo dentro de una función."
      ],
      "metadata": {
        "id": "OhRTITw1P3CB"
      }
    },
    {
      "cell_type": "code",
      "source": [
        "def build_model():\n",
        "    model = keras.Sequential([\n",
        "        layers.Dense(64, activation=\"relu\"),\n",
        "        layers.Dense(64, activation=\"relu\"),\n",
        "        layers.Dense(3, activation=\"softmax\")\n",
        "    ])\n",
        "    model.compile(optimizer=\"rmsprop\", loss=\"sparse_categorical_crossentropy\", metrics=[\"accuracy\"])\n",
        "    return model"
      ],
      "metadata": {
        "id": "6wHkoK98O1k-"
      },
      "execution_count": null,
      "outputs": []
    },
    {
      "cell_type": "markdown",
      "source": [
        "Usamos una $k=4$ con 1000 épocas."
      ],
      "metadata": {
        "id": "Rtny37BZP1Im"
      }
    },
    {
      "cell_type": "code",
      "source": [
        "k = 4\n",
        "num_val_samples = len(train_data) // k\n",
        "\n",
        "num_epochs = 1000\n",
        "all_acc_histories = []\n",
        "for i in range(k):\n",
        "    print(f\"Processing fold #{i}\")\n",
        "    val_data = train_data[i * num_val_samples: (i + 1) * num_val_samples]\n",
        "    val_labels = train_labels[i * num_val_samples: (i + 1) * num_val_samples]\n",
        "    partial_train_data = np.concatenate(\n",
        "        [train_data[:i * num_val_samples],\n",
        "         train_data[(i + 1) * num_val_samples:]],\n",
        "        axis=0)\n",
        "    partial_train_labels = np.concatenate(\n",
        "        [train_labels[:i * num_val_samples],\n",
        "         train_labels[(i + 1) * num_val_samples:]],\n",
        "        axis=0) #Separamos el conjunto de entrenamiento en datos de entrenamiento y validación, según sea requerido\n",
        "\n",
        "    model = build_model()\n",
        "    history = model.fit(partial_train_data, partial_train_labels,\n",
        "                        validation_data=(val_data, val_labels),\n",
        "                        epochs=num_epochs, batch_size=16, verbose=0) #Entrenamos la red\n",
        "    acc_history = history.history[\"val_accuracy\"]\n",
        "    all_acc_histories.append(acc_history) #Vamos documentando el accuracy"
      ],
      "metadata": {
        "colab": {
          "base_uri": "https://localhost:8080/"
        },
        "id": "irM8YdLOb28Q",
        "outputId": "f52ad74c-6fb1-457e-df73-9d7d6a508bef"
      },
      "execution_count": null,
      "outputs": [
        {
          "output_type": "stream",
          "name": "stdout",
          "text": [
            "Processing fold #0\n",
            "Processing fold #1\n",
            "Processing fold #2\n",
            "Processing fold #3\n"
          ]
        }
      ]
    },
    {
      "cell_type": "markdown",
      "source": [
        "Graficamos el accuracy medio de la validación cruzada a en las épocas."
      ],
      "metadata": {
        "id": "62dGdxHiQ2OQ"
      }
    },
    {
      "cell_type": "code",
      "source": [
        "average_acc_history = [\n",
        "    np.mean([x[i] for x in all_acc_histories]) for i in range(num_epochs)]\n",
        "plt.plot(range(1, len(average_acc_history) + 1), average_acc_history)\n",
        "plt.xlabel(\"Epochs\")\n",
        "plt.ylabel(\"Validation Acc\")\n",
        "plt.show()"
      ],
      "metadata": {
        "colab": {
          "base_uri": "https://localhost:8080/",
          "height": 449
        },
        "id": "ANmd_V14dB96",
        "outputId": "a90a1888-6884-472a-e49b-b45dfaed4791"
      },
      "execution_count": null,
      "outputs": [
        {
          "output_type": "display_data",
          "data": {
            "text/plain": [
              "<Figure size 640x480 with 1 Axes>"
            ],
            "image/png": "[encoded data removed]"
          },
          "metadata": {}
        }
      ]
    },
    {
      "cell_type": "markdown",
      "source": [
        "A partir de 800 épocas se empieza a tener un modelo adecuado."
      ],
      "metadata": {
        "id": "GttyiOUxRNvJ"
      }
    },
    {
      "cell_type": "markdown",
      "source": [
        "###Construcción del modelo"
      ],
      "metadata": {
        "id": "qGSpoDEW3-rY"
      }
    },
    {
      "cell_type": "code",
      "source": [
        "model = build_model()\n",
        "model.fit(train_data, train_labels,\n",
        "          epochs=800, batch_size=16, verbose=0)\n",
        "test_scc_score, test_acc_score = model.evaluate(test_data, test_labels)"
      ],
      "metadata": {
        "colab": {
          "base_uri": "https://localhost:8080/"
        },
        "id": "r-vteCoOdIg4",
        "outputId": "dba108b7-1619-4839-e45f-ce1486c57e54"
      },
      "execution_count": null,
      "outputs": [
        {
          "output_type": "stream",
          "name": "stdout",
          "text": [
            "2/2 [==============================] - 0s 10ms/step - loss: 0.3046 - accuracy: 0.9167\n"
          ]
        }
      ]
    },
    {
      "cell_type": "code",
      "source": [
        "test_acc_score"
      ],
      "metadata": {
        "colab": {
          "base_uri": "https://localhost:8080/"
        },
        "id": "1UxYC9J_dP08",
        "outputId": "2cce8c8a-e872-48ed-bb91-5d84a3c66ec4"
      },
      "execution_count": null,
      "outputs": [
        {
          "output_type": "execute_result",
          "data": {
            "text/plain": [
              "0.9166666865348816"
            ]
          },
          "metadata": {},
          "execution_count": 52
        }
      ]
    },
    {
      "cell_type": "code",
      "source": [
        "predictions = model.predict(test_data)\n",
        "predictions2=np.zeros(len(predictions))\n",
        "for i in range(len(predictions)):\n",
        "  predictions2[i]=predictions[i].argmax()+1\n",
        "x=predictions2\n",
        "y=test_labels+1\n",
        "x-y"
      ],
      "metadata": {
        "colab": {
          "base_uri": "https://localhost:8080/"
        },
        "id": "MG1SE2-AdSbu",
        "outputId": "d0511a3d-f73f-4510-c3f4-f5b6c00555cc"
      },
      "execution_count": null,
      "outputs": [
        {
          "output_type": "stream",
          "name": "stdout",
          "text": [
            "2/2 [==============================] - 0s 6ms/step\n"
          ]
        },
        {
          "output_type": "execute_result",
          "data": {
            "text/plain": [
              "array([ 0.,  0.,  0.,  0.,  0.,  0.,  0.,  0.,  0.,  1.,  0.,  0.,  1.,\n",
              "        0., -1.,  0.,  0.,  0.,  0.,  0.,  0.,  0.,  0.,  0.,  0.,  0.,\n",
              "        0.,  0.,  0.,  0.,  0.,  0.,  0.,  0.,  0.,  0.])"
            ]
          },
          "metadata": {},
          "execution_count": 53
        }
      ]
    },
    {
      "cell_type": "markdown",
      "source": [
        "La cantidad de datos no llevo a usar 800 épocas para tener un accuray mayor a 0.9\n",
        "Esto nos lleva a concluir que tener una buena cantidad de datos es importante."
      ],
      "metadata": {
        "id": "Sna7bgU7RbvG"
      }
    }
  ]
}